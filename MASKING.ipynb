{
 "cells": [
  {
   "cell_type": "code",
   "execution_count": 3,
   "id": "56cbbc40",
   "metadata": {},
   "outputs": [],
   "source": [
    "import cv2 as cv\n",
    "import numpy as np\n"
   ]
  },
  {
   "cell_type": "code",
   "execution_count": 8,
   "id": "e3f7f5d2",
   "metadata": {},
   "outputs": [
    {
     "data": {
      "text/plain": [
       "-1"
      ]
     },
     "execution_count": 8,
     "metadata": {},
     "output_type": "execute_result"
    }
   ],
   "source": [
    "img=cv.imread('photo.jpg')\n",
    "cv.imshow('img',img)\n",
    "\n",
    "blank=np.zeros(img.shape[:2],dtype='uint8')\n",
    "cv.imshow('blank',blank)\n",
    "\n",
    "circle=cv.circle(blank,(img.shape[1]//2,img.shape[0]//2-50),80,(255,255,255),-1)\n",
    "cv.imshow('circle',circle)\n",
    "\n",
    "mask=cv.bitwise_and(img,img,mask=circle)\n",
    "cv.imshow('mask',mask)\n",
    "\n",
    "cv.waitKey(0)"
   ]
  },
  {
   "cell_type": "code",
   "execution_count": null,
   "id": "36e25204",
   "metadata": {},
   "outputs": [],
   "source": []
  }
 ],
 "metadata": {
  "kernelspec": {
   "display_name": "Python 3 (ipykernel)",
   "language": "python",
   "name": "python3"
  },
  "language_info": {
   "codemirror_mode": {
    "name": "ipython",
    "version": 3
   },
   "file_extension": ".py",
   "mimetype": "text/x-python",
   "name": "python",
   "nbconvert_exporter": "python",
   "pygments_lexer": "ipython3",
   "version": "3.10.0"
  }
 },
 "nbformat": 4,
 "nbformat_minor": 5
}
