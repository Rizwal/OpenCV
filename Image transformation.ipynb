{
 "cells": [
  {
   "cell_type": "code",
   "execution_count": 5,
   "id": "7249d71e",
   "metadata": {},
   "outputs": [
    {
     "data": {
      "text/plain": [
       "-1"
      ]
     },
     "execution_count": 5,
     "metadata": {},
     "output_type": "execute_result"
    }
   ],
   "source": [
    "import cv2 as cv\n",
    "import numpy as np\n",
    "\n",
    "img=cv.imread('photo.jpg')\n",
    "cv.imshow('img',img)\n",
    "\n",
    "#translation\n",
    "def translate(img,x,y):\n",
    "    transmat=np.float32([[1,0,x],[0,1,y]])\n",
    "    dimensions=(img.shape[1],img.shape[0])\n",
    "    return cv.warpAffine(img,transmat,dimensions)\n",
    "\n",
    "# -x ->left\n",
    "# x ->right\n",
    "# y -> down\n",
    "# -y -> up\n",
    "\n",
    "translated=translate(img,100,100)\n",
    "cv.imshow('translated',translated)\n",
    "\n",
    "#Rotation\n",
    "\n",
    "def rotation(img,angle,rotPoint=None):\n",
    "    (height,width)=img.shape[:2]\n",
    "\n",
    "    if rotPoint is None:\n",
    "        rotPoint = (width//2,height//2)\n",
    "        \n",
    "    rotMat=cv.getRotationMatrix2D(rotPoint,angle,1.0)\n",
    "    dimensions=(width,height)\n",
    "    \n",
    "    return cv.warpAffine(img,rotMat,dimensions)\n",
    "\n",
    "rotated=rotation(img,45)\n",
    "cv.imshow('rotated',rotated)\n",
    "\n",
    "\n",
    "#flip\n",
    "flip=cv.flip(img,0)  #can be 0, 1, -1\n",
    "cv.imshow('flip',flip)\n",
    "\n",
    "\n",
    "\n",
    "cv.waitKey(0)"
   ]
  },
  {
   "cell_type": "code",
   "execution_count": null,
   "id": "4c8d6bc2",
   "metadata": {},
   "outputs": [],
   "source": []
  }
 ],
 "metadata": {
  "kernelspec": {
   "display_name": "Python 3 (ipykernel)",
   "language": "python",
   "name": "python3"
  },
  "language_info": {
   "codemirror_mode": {
    "name": "ipython",
    "version": 3
   },
   "file_extension": ".py",
   "mimetype": "text/x-python",
   "name": "python",
   "nbconvert_exporter": "python",
   "pygments_lexer": "ipython3",
   "version": "3.10.0"
  }
 },
 "nbformat": 4,
 "nbformat_minor": 5
}
