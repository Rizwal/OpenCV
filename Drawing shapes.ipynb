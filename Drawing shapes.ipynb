{
 "cells": [
  {
   "cell_type": "code",
   "execution_count": 10,
   "id": "e7a2ffc2",
   "metadata": {},
   "outputs": [
    {
     "data": {
      "text/plain": [
       "-1"
      ]
     },
     "execution_count": 10,
     "metadata": {},
     "output_type": "execute_result"
    }
   ],
   "source": [
    "import cv2 as cv\n",
    "import numpy as np\n",
    "\n",
    "blank=np.zeros((500,500,3),dtype='uint8')\n",
    "cv.imshow('blank',blank)\n",
    "\n",
    "\n",
    "#red gbr\n",
    "blank[:]=0,0,255\n",
    "cv.imshow('red',blank)\n",
    "\n",
    "#green gbr\n",
    "blank[:]=0,255,0\n",
    "cv.imshow('green',blank)\n",
    "\n",
    "#blue gbr\n",
    "blank[:]=255,0,0\n",
    "cv.imshow('blue',blank)\n",
    "\n",
    "#white gbr\n",
    "blank[:]=255,255,255\n",
    "cv.imshow('white',blank)\n",
    "\n",
    "#painting certain portion\n",
    "blank[200:300,300:400]=0,255,255\n",
    "cv.imshow('yellowbox',blank)\n",
    "\n",
    "#rectangle\n",
    "\n",
    "cv.rectangle(blank,(0,0),(255,255),(0,255,0),thickness=2)\n",
    "cv.imshow('rectangle',blank)\n",
    "\n",
    "#circle\n",
    "cv.circle(blank,(blank.shape[0]//2,blank.shape[1]//2),40,(0,0,255),thickness=3)\n",
    "cv.imshow('circle',blank)\n",
    "\n",
    "#text\n",
    "cv.putText(blank,'Hello',(255,255),cv.FONT_HERSHEY_TRIPLEX,1.0,(0,255,0),2)\n",
    "cv.imshow('text',blank)\n",
    "\n",
    "cv.waitKey(0)"
   ]
  },
  {
   "cell_type": "code",
   "execution_count": null,
   "id": "e190792d",
   "metadata": {},
   "outputs": [],
   "source": []
  }
 ],
 "metadata": {
  "kernelspec": {
   "display_name": "Python 3 (ipykernel)",
   "language": "python",
   "name": "python3"
  },
  "language_info": {
   "codemirror_mode": {
    "name": "ipython",
    "version": 3
   },
   "file_extension": ".py",
   "mimetype": "text/x-python",
   "name": "python",
   "nbconvert_exporter": "python",
   "pygments_lexer": "ipython3",
   "version": "3.10.0"
  }
 },
 "nbformat": 4,
 "nbformat_minor": 5
}
