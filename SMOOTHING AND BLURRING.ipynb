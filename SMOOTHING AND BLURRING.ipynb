{
 "cells": [
  {
   "cell_type": "code",
   "execution_count": 8,
   "id": "3abd40b7",
   "metadata": {},
   "outputs": [
    {
     "data": {
      "text/plain": [
       "-1"
      ]
     },
     "execution_count": 8,
     "metadata": {},
     "output_type": "execute_result"
    }
   ],
   "source": [
    "import numpy as np\n",
    "import cv2 as cv\n",
    "\n",
    "img=cv.imread('photo.jpg')\n",
    "cv.imshow('img',img)\n",
    "\n",
    "#average blur\n",
    "blurred=cv.blur(img,(7,7)) #it works by taking a kernel of size eg 3x3 and giving the average intensities \n",
    "cv.imshow('blur',blurred)  #of all the surround pixels to centre pixel hence blurring it \n",
    "\n",
    "#gaussian blur\n",
    "gaussian=cv.GaussianBlur(img,(7,7),0) #it provides weight to each pixel in kernel (7x7) and calculates average accordingly\n",
    "cv.imshow('gaussianblur',gaussian)\n",
    "\n",
    "#median blur\n",
    "median=cv.medianBlur(img,7) #same as average blur but it calculates median of kernel pixels\n",
    "cv.imshow('median',median)\n",
    "\n",
    "#bilateral blurring\n",
    "bilateral=cv.bilateralFilter(img,10,35,25)#applies blurring but it retains edges of the image making it look more usable\n",
    "cv.imshow('bilateral',bilateral)\n",
    "\n",
    "\n",
    "cv.waitKey(0)"
   ]
  },
  {
   "cell_type": "code",
   "execution_count": null,
   "id": "50592a23",
   "metadata": {},
   "outputs": [],
   "source": []
  }
 ],
 "metadata": {
  "kernelspec": {
   "display_name": "Python 3 (ipykernel)",
   "language": "python",
   "name": "python3"
  },
  "language_info": {
   "codemirror_mode": {
    "name": "ipython",
    "version": 3
   },
   "file_extension": ".py",
   "mimetype": "text/x-python",
   "name": "python",
   "nbconvert_exporter": "python",
   "pygments_lexer": "ipython3",
   "version": "3.10.0"
  }
 },
 "nbformat": 4,
 "nbformat_minor": 5
}
