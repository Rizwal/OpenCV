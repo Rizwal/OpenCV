{
 "cells": [
  {
   "cell_type": "code",
   "execution_count": 1,
   "id": "f933294a",
   "metadata": {},
   "outputs": [],
   "source": [
    "import cv2 as cv\n",
    "import numpy as np"
   ]
  },
  {
   "cell_type": "code",
   "execution_count": 14,
   "id": "6a7d9fd5",
   "metadata": {},
   "outputs": [
    {
     "data": {
      "text/plain": [
       "-1"
      ]
     },
     "execution_count": 14,
     "metadata": {},
     "output_type": "execute_result"
    }
   ],
   "source": [
    "img=cv.imread('photo.jpg')\n",
    "cv.imshow('img',img)\n",
    "\n",
    "gray=cv.cvtColor(img,cv.COLOR_BGR2GRAY)\n",
    "cv.imshow('gray',gray)\n",
    "\n",
    "#simple thresholding\n",
    "threshold,thresh=cv.threshold(gray,150,255,cv.THRESH_BINARY)\n",
    "cv.imshow('threshold',thresh)\n",
    "\n",
    "#inverse thresholding\n",
    "threshold,thresh_inv=cv.threshold(gray,150,255,cv.THRESH_BINARY_INV)\n",
    "cv.imshow('threshold inverse',thresh_inv)\n",
    "\n",
    "#adaptive thresholding\n",
    "adaptive_thresh=cv.adaptiveThreshold(gray,255,cv.ADAPTIVE_THRESH_MEAN_C,cv.THRESH_BINARY,11,3)\n",
    "cv.imshow('Adaptive',adaptive_thresh)\n",
    "\n",
    "# inverse adaptive thresholding :-> calculate threshold on the basis of mean of pixels\n",
    "adaptive_thresh_inv=cv.adaptiveThreshold(gray,255,cv.ADAPTIVE_THRESH_MEAN_C,cv.THRESH_BINARY_INV,11,3)\n",
    "cv.imshow('Adaptive inverse',adaptive_thresh_inv)\n",
    "    \n",
    "cv.waitKey(0)"
   ]
  },
  {
   "cell_type": "code",
   "execution_count": null,
   "id": "0846634f",
   "metadata": {},
   "outputs": [],
   "source": []
  }
 ],
 "metadata": {
  "kernelspec": {
   "display_name": "Python 3 (ipykernel)",
   "language": "python",
   "name": "python3"
  },
  "language_info": {
   "codemirror_mode": {
    "name": "ipython",
    "version": 3
   },
   "file_extension": ".py",
   "mimetype": "text/x-python",
   "name": "python",
   "nbconvert_exporter": "python",
   "pygments_lexer": "ipython3",
   "version": "3.10.0"
  }
 },
 "nbformat": 4,
 "nbformat_minor": 5
}
