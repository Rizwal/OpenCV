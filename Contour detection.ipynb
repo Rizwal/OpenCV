{
 "cells": [
  {
   "cell_type": "code",
   "execution_count": 5,
   "id": "135cb595",
   "metadata": {},
   "outputs": [
    {
     "name": "stdout",
     "output_type": "stream",
     "text": [
      "216\n"
     ]
    },
    {
     "data": {
      "text/plain": [
       "-1"
      ]
     },
     "execution_count": 5,
     "metadata": {},
     "output_type": "execute_result"
    }
   ],
   "source": [
    "import cv2 as cv\n",
    "import numpy as np\n",
    "\n",
    "img=cv.imread('photo.jpg')\n",
    "cv.imshow('img',img)\n",
    "\n",
    "bnw=cv.cvtColor(img,cv.COLOR_BGR2GRAY)\n",
    "cv.imshow('bnw',bnw)\n",
    "\n",
    "blank=np.zeros(img.shape,dtype='uint8')\n",
    "cv.imshow('blank',blank)\n",
    "\n",
    "canny=cv.Canny(bnw,125,175)\n",
    "cv.imshow('canny',canny)\n",
    "\n",
    "contours,hierarchies=cv.findContours(canny,cv.RETR_LIST,cv.CHAIN_APPROX_SIMPLE)\n",
    "print(len(contours))\n",
    "\n",
    "cv.drawContours(blank,contours,-1,(0,0,255),2)\n",
    "cv.imshow('contours',blank)\n",
    "\n",
    "\n",
    "cv.waitKey(0)"
   ]
  },
  {
   "cell_type": "code",
   "execution_count": null,
   "id": "386b31f8",
   "metadata": {},
   "outputs": [],
   "source": []
  }
 ],
 "metadata": {
  "kernelspec": {
   "display_name": "Python 3 (ipykernel)",
   "language": "python",
   "name": "python3"
  },
  "language_info": {
   "codemirror_mode": {
    "name": "ipython",
    "version": 3
   },
   "file_extension": ".py",
   "mimetype": "text/x-python",
   "name": "python",
   "nbconvert_exporter": "python",
   "pygments_lexer": "ipython3",
   "version": "3.10.0"
  }
 },
 "nbformat": 4,
 "nbformat_minor": 5
}
