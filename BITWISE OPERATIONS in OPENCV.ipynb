{
 "cells": [
  {
   "cell_type": "code",
   "execution_count": 2,
   "id": "48896f4a",
   "metadata": {},
   "outputs": [],
   "source": [
    "import numpy as np\n",
    "import cv2 as cv"
   ]
  },
  {
   "cell_type": "code",
   "execution_count": 14,
   "id": "573b9aea",
   "metadata": {},
   "outputs": [
    {
     "data": {
      "text/plain": [
       "-1"
      ]
     },
     "execution_count": 14,
     "metadata": {},
     "output_type": "execute_result"
    }
   ],
   "source": [
    "blank=np.zeros([500,500,3],dtype='uint8')\n",
    "cv.imshow('blank',blank)\n",
    "\n",
    "rectangle=cv.rectangle(blank.copy(),(50,50),(450,450),(255,255,255),-1)\n",
    "cv.imshow('rect',rectangle)\n",
    "\n",
    "circle=cv.circle(blank.copy(),(250,250),250,(255,255,255),-1)\n",
    "cv.imshow('circle',circle)\n",
    "\n",
    "#bitwise and :-> it will give the intersection of 2 images\n",
    "bitand=cv.bitwise_and(rectangle,circle)\n",
    "cv.imshow('And',bitand)\n",
    "\n",
    "#bitwise or :-> it will give union of both the images\n",
    "bitor=cv.bitwise_or(rectangle,circle)\n",
    "cv.imshow('Or',bitor)\n",
    "\n",
    "#bitwise not :-> it will give complement of the image u provided\n",
    "bitnot=cv.bitwise_not(circle)\n",
    "cv.imshow('Not',bitnot)\n",
    "\n",
    "#bitwise xor :-> it will give XOR of image (i.e. 0 0 ->0 , 1 1->0, 1 0 or 0 1 ->1) (non intersecting region)\n",
    "bitxor=cv.bitwise_xor(rectangle,circle)\n",
    "cv.imshow('Xor',bitxor)\n",
    "\n",
    "cv.waitKey(0)\n"
   ]
  },
  {
   "cell_type": "code",
   "execution_count": null,
   "id": "0bd4e579",
   "metadata": {},
   "outputs": [],
   "source": []
  },
  {
   "cell_type": "code",
   "execution_count": null,
   "id": "ed986dde",
   "metadata": {},
   "outputs": [],
   "source": []
  }
 ],
 "metadata": {
  "kernelspec": {
   "display_name": "Python 3 (ipykernel)",
   "language": "python",
   "name": "python3"
  },
  "language_info": {
   "codemirror_mode": {
    "name": "ipython",
    "version": 3
   },
   "file_extension": ".py",
   "mimetype": "text/x-python",
   "name": "python",
   "nbconvert_exporter": "python",
   "pygments_lexer": "ipython3",
   "version": "3.10.0"
  }
 },
 "nbformat": 4,
 "nbformat_minor": 5
}
