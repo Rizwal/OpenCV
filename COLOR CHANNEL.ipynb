{
 "cells": [
  {
   "cell_type": "code",
   "execution_count": 1,
   "id": "c670013c",
   "metadata": {},
   "outputs": [],
   "source": [
    "import cv2 as cv\n",
    "import numpy as np"
   ]
  },
  {
   "cell_type": "code",
   "execution_count": 3,
   "id": "47e4a8d6",
   "metadata": {},
   "outputs": [
    {
     "data": {
      "text/plain": [
       "-1"
      ]
     },
     "execution_count": 3,
     "metadata": {},
     "output_type": "execute_result"
    }
   ],
   "source": [
    "img=cv.imread('photo.jpg')\n",
    "cv.imshow('img',img)\n",
    "\n",
    "blank=np.zeros(img.shape[:2],dtype='uint8')\n",
    "cv.imshow('blank',blank)\n",
    "\n",
    "b,g,r=cv.split(img)\n",
    "cv.imshow('blue',b)\n",
    "cv.imshow('green',g)\n",
    "cv.imshow('red',r)\n",
    "\n",
    "red=cv.merge([blank,blank,r])\n",
    "green=cv.merge([blank,r,blank])\n",
    "blue=cv.merge([r,blank,blank])\n",
    "cv.imshow('bluefull',blue)\n",
    "cv.imshow('greenfull',green)\n",
    "cv.imshow('redfull',red)\n",
    "\n",
    "#merging them\n",
    "\n",
    "merged=cv.merge([b,g,r])\n",
    "cv.imshow('merged',merged)\n",
    "\n",
    "\n",
    "\n",
    "cv.waitKey(0)"
   ]
  },
  {
   "cell_type": "code",
   "execution_count": null,
   "id": "88aff8d8",
   "metadata": {},
   "outputs": [],
   "source": []
  }
 ],
 "metadata": {
  "kernelspec": {
   "display_name": "Python 3 (ipykernel)",
   "language": "python",
   "name": "python3"
  },
  "language_info": {
   "codemirror_mode": {
    "name": "ipython",
    "version": 3
   },
   "file_extension": ".py",
   "mimetype": "text/x-python",
   "name": "python",
   "nbconvert_exporter": "python",
   "pygments_lexer": "ipython3",
   "version": "3.10.0"
  }
 },
 "nbformat": 4,
 "nbformat_minor": 5
}
