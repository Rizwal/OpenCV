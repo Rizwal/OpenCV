{
 "cells": [
  {
   "cell_type": "code",
   "execution_count": 4,
   "id": "46efd946",
   "metadata": {},
   "outputs": [
    {
     "data": {
      "text/plain": [
       "-1"
      ]
     },
     "execution_count": 4,
     "metadata": {},
     "output_type": "execute_result"
    }
   ],
   "source": [
    "import cv2 as cv\n",
    "import numpy as np\n",
    "\n",
    "img=cv.imread('photo.JPG')\n",
    "cv.imshow('img',img)\n",
    "\n",
    "#Black and white\n",
    "bnw=cv.cvtColor(img,cv.COLOR_BGR2GRAY)\n",
    "cv.imshow('bnw',bnw)\n",
    "\n",
    "#blur\n",
    "blur=cv.GaussianBlur(img,(7,7),cv.BORDER_DEFAULT)\n",
    "cv.imshow('blur',blur)\n",
    "\n",
    "#edge cascade\n",
    "cany=cv.Canny(img,125,175)\n",
    "cv.imshow('cany',cany)\n",
    "\n",
    "#dilating image\n",
    "dilated=cv.dilate(img,(7,7),iterations=3)\n",
    "cv.imshow('dilated',dilated)\n",
    "\n",
    "#eroding\n",
    "erode=cv.erode(img,(7,7),iterations=3)\n",
    "cv.imshow('eroded',erode)\n",
    "\n",
    "#resizing\n",
    "resized=cv.resize(img,(500,500),interpolation=cv.INTER_AREA) #INTER_CUBIC if you are up scaling the images\n",
    "cv.imshow('resized',resized)\n",
    "\n",
    "#cropping\n",
    "cropped=img[50:100,200:400] \n",
    "cv.imshow('cropped',cropped)\n",
    "\n",
    "cv.waitKey(0)"
   ]
  },
  {
   "cell_type": "code",
   "execution_count": null,
   "id": "c0e47019",
   "metadata": {},
   "outputs": [],
   "source": []
  },
  {
   "cell_type": "code",
   "execution_count": null,
   "id": "8586498f",
   "metadata": {},
   "outputs": [],
   "source": []
  },
  {
   "cell_type": "code",
   "execution_count": null,
   "id": "a88a3d0e",
   "metadata": {},
   "outputs": [],
   "source": []
  }
 ],
 "metadata": {
  "kernelspec": {
   "display_name": "Python 3 (ipykernel)",
   "language": "python",
   "name": "python3"
  },
  "language_info": {
   "codemirror_mode": {
    "name": "ipython",
    "version": 3
   },
   "file_extension": ".py",
   "mimetype": "text/x-python",
   "name": "python",
   "nbconvert_exporter": "python",
   "pygments_lexer": "ipython3",
   "version": "3.10.0"
  }
 },
 "nbformat": 4,
 "nbformat_minor": 5
}
