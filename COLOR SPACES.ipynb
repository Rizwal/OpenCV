{
 "cells": [
  {
   "cell_type": "code",
   "execution_count": null,
   "id": "d05735a0",
   "metadata": {},
   "outputs": [],
   "source": [
    "import cv2 as cv\n",
    "import numpy as np\n",
    "import matplotlib.pyplot as plt\n",
    "\n",
    "img=cv.imread('photo.jpg')\n",
    "cv.imshow('img',img)\n",
    "\n",
    "#hue saturation value\n",
    "hsv=cv.cvtColor(img,cv.COLOR_BGR2HSV)\n",
    "cv.imshow('hsv',hsv)\n",
    "\n",
    "#LAB color\n",
    "lab=cv.cvtColor(img,cv.COLOR_BGR2LAB)\n",
    "cv.imshow('lab',lab)\n",
    "\n",
    "\n",
    "\n",
    "cv.waitKey(0)"
   ]
  },
  {
   "cell_type": "code",
   "execution_count": null,
   "id": "029df381",
   "metadata": {},
   "outputs": [],
   "source": []
  }
 ],
 "metadata": {
  "kernelspec": {
   "display_name": "Python 3 (ipykernel)",
   "language": "python",
   "name": "python3"
  },
  "language_info": {
   "codemirror_mode": {
    "name": "ipython",
    "version": 3
   },
   "file_extension": ".py",
   "mimetype": "text/x-python",
   "name": "python",
   "nbconvert_exporter": "python",
   "pygments_lexer": "ipython3",
   "version": "3.10.0"
  }
 },
 "nbformat": 4,
 "nbformat_minor": 5
}
